{
 "cells": [
  {
   "cell_type": "code",
   "execution_count": 3,
   "id": "312a29c5-d21c-4eaf-ab91-6e0ef28b8584",
   "metadata": {},
   "outputs": [
    {
     "name": "stdout",
     "output_type": "stream",
     "text": [
      "+-------------+\n",
      "|LEE CHONG WEI|\n",
      "+-------------+\n"
     ]
    }
   ],
   "source": [
    "print(\"+-------------+\")\n",
    "print(\"|LEE CHONG WEI|\")\n",
    "print(\"+-------------+\")"
   ]
  },
  {
   "cell_type": "code",
   "execution_count": 9,
   "id": "92f8b7fd-4c0c-408b-8d80-a8192dea6d1c",
   "metadata": {},
   "outputs": [
    {
     "name": "stdout",
     "output_type": "stream",
     "text": [
      "  //////\n",
      " | ° ° |\n",
      "(|  ^  |)\n",
      " | [_] |\n",
      "  -----\n"
     ]
    }
   ],
   "source": [
    "print(\"  //////\")\n",
    "print(\" | ° ° |\")\n",
    "print(\"(|  ^  |)\")\n",
    "print(\" | [_] |\")\n",
    "print(\"  -----\")"
   ]
  },
  {
   "cell_type": "code",
   "execution_count": 11,
   "id": "bfeed918-3cd6-4d3c-a8e4-28ef175f3f77",
   "metadata": {},
   "outputs": [
    {
     "name": "stdout",
     "output_type": "stream",
     "text": [
      "FFFFFFF  U     U  NN    NN\n",
      "FF       U     U  NNN   NN\n",
      "FFFFFFF  U     U  NN N  NN\n",
      "FF        U   U   NN  N NN\n",
      "FF         UUU    NN   NNN\n"
     ]
    }
   ],
   "source": [
    "print(\"FFFFFFF  U     U  NN    NN\")\n",
    "print(\"FF       U     U  NNN   NN\")\n",
    "print(\"FFFFFFF  U     U  NN N  NN\")\n",
    "print(\"FF        U   U   NN  N NN\")\n",
    "print(\"FF         UUU    NN   NNN\")"
   ]
  },
  {
   "cell_type": "code",
   "execution_count": 12,
   "id": "0dc1aec5-5704-4d05-b8df-6af8beaa4e96",
   "metadata": {},
   "outputs": [
    {
     "name": "stdout",
     "output_type": "stream",
     "text": [
      "+---+---+---+\n",
      "| X |   | O |\n",
      "+---+---+---+\n",
      "|   | X | O |\n",
      "+---+---+---+\n",
      "|   |   | O |\n",
      "+---+---+---+\n"
     ]
    }
   ],
   "source": [
    "print(\"+---+---+---+\")\n",
    "print(\"| X |   | O |\")\n",
    "print(\"+---+---+---+\")\n",
    "print(\"|   | X | O |\")\n",
    "print(\"+---+---+---+\")\n",
    "print(\"|   |   | O |\")\n",
    "print(\"+---+---+---+\")"
   ]
  },
  {
   "cell_type": "code",
   "execution_count": 19,
   "id": "5dc3c331-3f80-4c51-b1d7-1f8d3844b34c",
   "metadata": {},
   "outputs": [
    {
     "name": "stdout",
     "output_type": "stream",
     "text": [
      "x\tx^2\tx^3\n",
      "1\t1\t1\n",
      "2\t4\t8\n",
      "3\t9\t27\n",
      "4\t16\t64\n"
     ]
    }
   ],
   "source": [
    "print(\"x\"   \"\\t\" + \"x^2\" + \"\\t\" + \"x^3\")\n",
    "x = 1\n",
    "print(str(x)+\"\\t\" + str(pow(x,2)) + \"\\t\" + str(pow(x,3)))\n",
    "x = 2\n",
    "print(str(x)+\"\\t\" + str(pow(x,2)) + \"\\t\" + str(pow(x,3)))\n",
    "x = 3\n",
    "print(str(x)+\"\\t\" + str(pow(x,2)) + \"\\t\" + str(pow(x,3)))\n",
    "x = 4\n",
    "print(str(x)+\"\\t\" + str(pow(x,2)) + \"\\t\" + str(pow(x,3)))"
   ]
  },
  {
   "cell_type": "code",
   "execution_count": 20,
   "id": "bb46f4b1-e604-4a20-8542-27a822886a0f",
   "metadata": {},
   "outputs": [
    {
     "name": "stdout",
     "output_type": "stream",
     "text": [
      "0.9980158730158729\n"
     ]
    }
   ],
   "source": [
    "result = ((9.5 * 4.5 - 2.5 / 3) / (45.5 - 3.5))\n",
    "print(result)"
   ]
  },
  {
   "cell_type": "code",
   "execution_count": 24,
   "id": "0a5aeaec-cd95-4944-a945-5904d4b82059",
   "metadata": {},
   "outputs": [
    {
     "name": "stdin",
     "output_type": "stream",
     "text": [
      "Enter a name: Lee Chong Wei\n",
      "Enter an age:  41\n"
     ]
    },
    {
     "name": "stdout",
     "output_type": "stream",
     "text": [
      "Lee Chong Wei is 41 years old now.\n"
     ]
    }
   ],
   "source": [
    "name = input(\"Enter a name:\")\n",
    "age = input(\"Enter an age: \")\n",
    "print(name , \"is\" , age , \"years old now.\" )"
   ]
  },
  {
   "cell_type": "code",
   "execution_count": 28,
   "id": "abe44083-9339-4b18-aba5-5a212d4eac6b",
   "metadata": {},
   "outputs": [
    {
     "name": "stdin",
     "output_type": "stream",
     "text": [
      "Enter a degree in Celsius: 43\n"
     ]
    },
    {
     "name": "stdout",
     "output_type": "stream",
     "text": [
      "43 Celsius is 109.4 Fahrenheit.\n"
     ]
    }
   ],
   "source": [
    "celsius = int(input(\"Enter a degree in Celsius:\"))\n",
    "fahrenheit = ((9/5) * celsius + 32)\n",
    "print(celsius, \"Celsius is\", fahrenheit , \"Fahrenheit.\")"
   ]
  },
  {
   "cell_type": "code",
   "execution_count": 37,
   "id": "bb180424-41b1-42d5-8e76-c6fa22a3ee45",
   "metadata": {},
   "outputs": [
    {
     "name": "stdin",
     "output_type": "stream",
     "text": [
      "Enter a radius of a cylinder: 3\n",
      "Enter a height of a cylinder: 5\n"
     ]
    },
    {
     "name": "stdout",
     "output_type": "stream",
     "text": [
      "Its surface area and volume are 150.79644737231007 and 141.3716694115407 respectively.\n"
     ]
    }
   ],
   "source": [
    "import math\n",
    "PI = math.pi\n",
    "radius = int(input(\"Enter a radius of a cylinder:\"))\n",
    "height = int(input(\"Enter a height of a cylinder:\"))\n",
    "\n",
    "\n",
    "surfacearea =(2 * PI * radius * height + 2 * (PI) * radius * radius)\n",
    "volume = ((PI) * radius * radius * height )\n",
    "print(\"Its surface area and volume are\" , surfacearea, \"and\" , volume , \"respectively.\")"
   ]
  },
  {
   "cell_type": "code",
   "execution_count": 40,
   "id": "2cf15798-c951-48d9-842d-848ed37a742a",
   "metadata": {},
   "outputs": [
    {
     "name": "stdin",
     "output_type": "stream",
     "text": [
      "Enter a number between 0 and 100: 999\n"
     ]
    },
    {
     "name": "stdout",
     "output_type": "stream",
     "text": [
      "The sum of the digits is 27\n"
     ]
    }
   ],
   "source": [
    "num = int(input(\"Enter a number between 0 and 100:\"))\n",
    "x = int((num%10))\n",
    "y = int((num%100)/10)\n",
    "z = int((num%1000)/100)\n",
    "final = x+y+z\n",
    "print(\"The sum of the digits is\" , final)"
   ]
  },
  {
   "cell_type": "code",
   "execution_count": 42,
   "id": "c986cb67-3c42-44ce-9cfe-acb6f525d500",
   "metadata": {},
   "outputs": [
    {
     "name": "stdin",
     "output_type": "stream",
     "text": [
      "Enter a number between 0 and 100: 999\n"
     ]
    },
    {
     "name": "stdout",
     "output_type": "stream",
     "text": [
      "The sum of the digits is 27\n"
     ]
    }
   ],
   "source": [
    "number = int(input(\"Enter a number between 0 and 100:\"))\n",
    "\n",
    "divisor = 10\n",
    "\n",
    "digit1 = number % divisor\n",
    "\n",
    "number = number // divisor\n",
    "\n",
    "digit10 = number % divisor\n",
    "\n",
    "number = number // divisor\n",
    "\n",
    "digit100 = number % divisor\n",
    "\n",
    "sum = digit1 + digit10 + digit100\n",
    "\n",
    "print(\"The sum of the digits is\" , sum)"
   ]
  },
  {
   "cell_type": "code",
   "execution_count": 49,
   "id": "afbdd6b4-3418-4bd8-a8d4-974fdbbe154d",
   "metadata": {},
   "outputs": [
    {
     "name": "stdout",
     "output_type": "stream",
     "text": [
      "After the sixth month, the account value is 608.81\n"
     ]
    }
   ],
   "source": [
    "mon1 = 0.05\n",
    "mon2 = mon1/12\n",
    "\n",
    "base = 100\n",
    "\n",
    "total = base* (1+mon2)\n",
    "total = (total+base) *(1+mon2)\n",
    "total = (total+base) *(1+mon2)\n",
    "total = (total+base) *(1+mon2)\n",
    "total = (total+base) *(1+mon2)\n",
    "total = (total+base) *(1+mon2)\n",
    "\n",
    "print(\"After the sixth month, the account value is\" , round(total,2))"
   ]
  },
  {
   "cell_type": "code",
   "execution_count": 54,
   "id": "fa962991-4c7f-47b0-9d72-df8c2c0bb2aa",
   "metadata": {},
   "outputs": [
    {
     "name": "stdout",
     "output_type": "stream",
     "text": [
      "Equation 1: ax + by = e\n",
      "Equation 2: cx + dy = f\n",
      "Enter a numerical value for each of the following 6 variables:\n"
     ]
    },
    {
     "name": "stdin",
     "output_type": "stream",
     "text": [
      "a = 3.4\n",
      "b = 50.2\n",
      "e = 44.5\n",
      "c = 2.1\n",
      "d = 0.55\n",
      "f = 5.9\n"
     ]
    },
    {
     "name": "stdout",
     "output_type": "stream",
     "text": [
      "Equation 1: 3.4x + 50.2 y = 44.5\n"
     ]
    }
   ],
   "source": [
    "print(\"Equation 1: ax + by = e\")\n",
    "print(\"Equation 2: cx + dy = f\")\n",
    "\n",
    "print(\"Enter a numerical value for each of the following 6 variables:\")\n",
    "a = input(\"a =\")\n",
    "b = input(\"b =\")\n",
    "e = input(\"e =\")\n",
    "c = input(\"c =\")\n",
    "d = input(\"d =\")\n",
    "f = input(\"f =\")\n",
    "\n",
    "print(\"Equation 1:\", a + \"x +\", b+ \"y =\" ,e)\n",
    "print(\"Equation 2:\", c + \"x +\", d+ \"y =\" ,f)\n",
    "\n"
   ]
  },
  {
   "cell_type": "code",
   "execution_count": null,
   "id": "cf908d7c-7641-441e-8a09-a3cd703f8731",
   "metadata": {},
   "outputs": [],
   "source": []
  }
 ],
 "metadata": {
  "kernelspec": {
   "display_name": "Python 3 (ipykernel)",
   "language": "python",
   "name": "python3"
  },
  "language_info": {
   "codemirror_mode": {
    "name": "ipython",
    "version": 3
   },
   "file_extension": ".py",
   "mimetype": "text/x-python",
   "name": "python",
   "nbconvert_exporter": "python",
   "pygments_lexer": "ipython3",
   "version": "3.12.7"
  }
 },
 "nbformat": 4,
 "nbformat_minor": 5
}
